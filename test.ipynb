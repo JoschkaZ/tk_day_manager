{
 "cells": [
  {
   "cell_type": "code",
   "execution_count": 16,
   "metadata": {},
   "outputs": [],
   "source": [
    "import yaml\n",
    "f = open(\"config.yaml\", \"r\")\n",
    "config = yaml.safe_load(f)\n",
    "f.close()"
   ]
  },
  {
   "cell_type": "code",
   "execution_count": 17,
   "metadata": {},
   "outputs": [
    {
     "data": {
      "text/plain": [
       "{'good morning.': 0.5,\n",
       " 'drink last coffee now.': -6.5,\n",
       " 'no more coffee for today.': -6,\n",
       " 'eat last food now.': -4,\n",
       " 'no more food for today.': -3,\n",
       " 'three hours left.': -3,\n",
       " 'two hours left.': -2,\n",
       " 'one hour left.': -1,\n",
       " 'prepare to sleep in thirty minutes.': -0.5,\n",
       " 'you should be sleeping now.': -0.01}"
      ]
     },
     "execution_count": 17,
     "metadata": {},
     "output_type": "execute_result"
    }
   ],
   "source": [
    "config['TIMED_MESSAGES']"
   ]
  },
  {
   "cell_type": "code",
   "execution_count": null,
   "metadata": {},
   "outputs": [],
   "source": []
  }
 ],
 "metadata": {
  "kernelspec": {
   "display_name": "Python 3",
   "language": "python",
   "name": "python3"
  },
  "language_info": {
   "codemirror_mode": {
    "name": "ipython",
    "version": 3
   },
   "file_extension": ".py",
   "mimetype": "text/x-python",
   "name": "python",
   "nbconvert_exporter": "python",
   "pygments_lexer": "ipython3",
   "version": "3.8.3"
  }
 },
 "nbformat": 4,
 "nbformat_minor": 4
}
