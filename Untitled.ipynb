{
 "cells": [
  {
   "cell_type": "code",
   "execution_count": 3,
   "metadata": {},
   "outputs": [
    {
     "name": "stdout",
     "output_type": "stream",
     "text": [
      "mta_:\n",
      " [[[ 0.26666667 -0.26666667]\n",
      "  [-0.03333333  0.03333333]\n",
      "  [-0.23333333  0.23333333]]\n",
      "\n",
      " [[-0.26666667  0.26666667]\n",
      "  [ 0.03333333 -0.03333333]\n",
      "  [ 0.23333333 -0.23333333]]] (2, 3, 2)\n",
      "tmm_dot:\n",
      " [[[ 0.14222222 -0.14222222]\n",
      "  [-0.14222222  0.14222222]]\n",
      "\n",
      " [[ 0.00222222 -0.00222222]\n",
      "  [-0.00222222  0.00222222]]\n",
      "\n",
      " [[ 0.10888889 -0.10888889]\n",
      "  [-0.10888889  0.10888889]]] (3, 2, 2)\n",
      "mm_dot_sum:\n",
      " [[ 0.25333333 -0.25333333]\n",
      " [-0.25333333  0.25333333]] (2, 2)\n",
      "tm_dot:\n",
      " [[0.14222222 0.14222222]\n",
      " [0.00222222 0.00222222]\n",
      " [0.10888889 0.10888889]] (3, 2)\n",
      "tmm_dot_dot:\n",
      " [[[2.02271605e-02 2.02271605e-02]\n",
      "  [2.02271605e-02 2.02271605e-02]]\n",
      "\n",
      " [[4.93827160e-06 4.93827160e-06]\n",
      "  [4.93827160e-06 4.93827160e-06]]\n",
      "\n",
      " [[1.18567901e-02 1.18567901e-02]\n",
      "  [1.18567901e-02 1.18567901e-02]]] (3, 2, 2)\n"
     ]
    },
    {
     "data": {
      "text/plain": [
       "array([[ 1., -1.],\n",
       "       [-1.,  1.]])"
      ]
     },
     "execution_count": 3,
     "metadata": {},
     "output_type": "execute_result"
    }
   ],
   "source": [
    "import numpy as np\n",
    "\n",
    "ta1 = [\n",
    "    [0.5, 0.5],\n",
    "    [0.2, 0.8],\n",
    "    [0, 1]\n",
    "]\n",
    "ta2 = [\n",
    "    [0.5, 0.5],\n",
    "    [0.8, 0.2],\n",
    "    [1, 0]\n",
    "]\n",
    "ta1 = np.array(ta1)\n",
    "ta2 = np.array(ta2)\n",
    "mta = np.stack([ta1, ta2])\n",
    "\n",
    "# usually, correlation is equal to sum of products divided by sqrt of sum of squares...\n",
    "# but now not dealingw with numbers, but with vectors... so just use vector product then i suppose\n",
    "\n",
    "# first, subtract the average value for each model and asset\n",
    "mta_ = mta - np.mean(mta, axis=1, keepdims=True)\n",
    "print('mta_:\\n', mta_, mta_.shape)\n",
    "\n",
    "# then, we need to get the sum of vector products for all model x model, so from [m, t, a] to [m, m, t] to [m, m] ...\n",
    "# can use matmul and have the matrices as the last two axes. so we need matmul([t, m, a], [t, a, m]) -> [t, m, m], then from this to [m, m]\n",
    "tma_ = np.moveaxis(mta_, 0, 1)\n",
    "tam_ = np.moveaxis(np.moveaxis(mta_, 0, 1), 1, 2)\n",
    "\n",
    "tmm_dot = np.matmul(tma_, tam_)\n",
    "print('tmm_dot:\\n', tmm_dot, tmm_dot.shape)\n",
    "mm_dot_sum = np.sum(tmm_dot, axis=0)\n",
    "print('mm_dot_sum:\\n', mm_dot_sum, mm_dot_sum.shape)\n",
    "\n",
    "# numerator is done, now need to do the same for the denominator...\n",
    "\n",
    "tm_dot = np.diagonal(tmm_dot, axis1=1, axis2=2)\n",
    "print('tm_dot:\\n', tm_dot, tm_dot.shape)\n",
    "\n",
    "tmm_dot_dot = np.matmul(tm_dot[:,:, None], tm_dot[:, None, :])\n",
    "print('tmm_dot_dot:\\n', tmm_dot_dot, tmm_dot_dot.shape)\n",
    "\n",
    "m_dot_sum = np.sum(tm_dot, axis=0)\n",
    "corr = mm_dot_sum / np.sqrt(np.matmul(m_dot_sum[:, None], m_dot_sum[ None, :]))\n",
    "\n",
    "corr     "
   ]
  },
  {
   "cell_type": "code",
   "execution_count": null,
   "metadata": {},
   "outputs": [],
   "source": []
  }
 ],
 "metadata": {
  "kernelspec": {
   "display_name": "Python 3",
   "language": "python",
   "name": "python3"
  },
  "language_info": {
   "codemirror_mode": {
    "name": "ipython",
    "version": 3
   },
   "file_extension": ".py",
   "mimetype": "text/x-python",
   "name": "python",
   "nbconvert_exporter": "python",
   "pygments_lexer": "ipython3",
   "version": "3.8.3"
  }
 },
 "nbformat": 4,
 "nbformat_minor": 4
}
